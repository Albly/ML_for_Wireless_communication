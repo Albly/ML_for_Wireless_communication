{
  "nbformat": 4,
  "nbformat_minor": 0,
  "metadata": {
    "colab": {
      "name": "IQ-imbalance.ipynb",
      "provenance": [],
      "collapsed_sections": [],
      "authorship_tag": "ABX9TyMWJtMjYFhBUbvSlaFOMnN9",
      "include_colab_link": true
    },
    "kernelspec": {
      "name": "python3",
      "display_name": "Python 3"
    },
    "language_info": {
      "name": "python"
    }
  },
  "cells": [
    {
      "cell_type": "markdown",
      "metadata": {
        "id": "view-in-github",
        "colab_type": "text"
      },
      "source": [
        "<a href=\"https://colab.research.google.com/github/Albly/ML_for_Wireless_communication/blob/main/IQ_imbalance.ipynb\" target=\"_parent\"><img src=\"https://colab.research.google.com/assets/colab-badge.svg\" alt=\"Open In Colab\"/></a>"
      ]
    },
    {
      "cell_type": "markdown",
      "metadata": {
        "id": "pR_qMagiZ3o3"
      },
      "source": [
        "# **Subtask 1**"
      ]
    },
    {
      "cell_type": "markdown",
      "metadata": {
        "id": "uT1DhH01OarM"
      },
      "source": [
        "Assume that italic letters ($x$) - scalars and non italic ($\\text{x}$) - vectors. Also complex vectors can be assigned with dot ($\\dot{\\text{x}}$)\n",
        "Complex vector $\\dot{\\text{x}}$ can be represented as follows: \n",
        "$$\n",
        "\\dot{\\text{x}} = \n",
        "\\begin{bmatrix}\n",
        "x^1_{re} \\\\\n",
        "\\vdots  \\\\\n",
        "x^n_{re} \n",
        "\\end{bmatrix}\n",
        "+ i\n",
        "\\begin{bmatrix}\n",
        "x^1_{im} \\\\\n",
        "\\vdots  \\\\\n",
        "x^n_{im}\n",
        "\\end{bmatrix}\n",
        "= \n",
        "\\text{x}_{re} + i\\text{x}_{im} \n",
        "$$\n"
      ]
    },
    {
      "cell_type": "markdown",
      "metadata": {
        "id": "AmmSAIGLSXbU"
      },
      "source": [
        "$$\n",
        "\\dot{\\text{y}} = \\dot{\\text{x}} + h\\dot{\\text{x}}^*\n",
        "$$\n",
        "where $\\dot{\\text{x}}$ and $\\dot{\\text{y}}$ are complex vectors and $\\dot{\\text{x}}^*$ - is conjucated vector $\\dot{\\text{x}}$\n",
        "\n",
        "Then this equation can be reformulated as follows:\n",
        "$$\n",
        "\\text{y}_{re}+ i\\text{y}_{im} = \\text{x}_{re} + i\\text{x}_{im} + (h_{re}+ih_{im})(\\text{x}_{re} - i\\text{x}_{im}) \n",
        "$$\n",
        "\n",
        "To express $\\dot{\\text{x}}$ in terms of $\\dot{\\text{y}}$ we have to do it for real and imaginary part:\n",
        "\n",
        "$$\n",
        "\\text{y}_{re}+ i\\text{y}_{im} = \\text{x}_{re} + i\\text{x}_{im} + (h_{re}+ih_{im})(\\text{x}_{re} - i\\text{x}_{im}) \n",
        "$$\n",
        "Let us separate real and imaginary part of this combination:\n",
        "$$\n",
        "\\dot{\\text{y}} = \\text{x}_{re} + h_{re}\\text{x}_{re}+h_{im}\\text{x}_{im}+ i \\left( \\text{x}_{im}- h_{re}\\text{x}_{im}+h_{im}\\text{x}_{re} \\right)\n",
        "$$\n",
        "And simplify this equation \n",
        "$$\n",
        "\\dot{\\text{y}} = \\text{x}_{re}(1+h_{re})+h_{im}\\text{x}_{im} + i\\Big(\\text{x}_{im}(1-h_{re})+ h_{im}\\text{x}_{re}\\Big)\n",
        "$$\n",
        "Now we can equare real and imaginary parts from left and right sides to get system of 2 equations:\n",
        "$$\n",
        "\\begin{cases}\n",
        "\\text{y}_{re} = \\text{x}_{re}(1+h_{re})+h_{im}\\text{x}_{im} \\\\\n",
        "\\text{y}_{im} = \\text{x}_{im}(1-h_{re})+h_{im}\\text{x}_{re} \\\\\n",
        "\\end{cases}\n",
        "$$\n",
        "Let us write this system into matrix form and solve it using  Cramer's rule:\n",
        "\n",
        "$$\n",
        "\\left( \\mkern1mu \\begin{array}{@{}cc|c@{}}\n",
        "1+h_{re} & h_{im} & \\text{y}_{re} \\\\\n",
        "h_{im} & 1-h_{re} & \\text{y}_{im} \\\\\n",
        "\\end{array} \\mkern1mu \\right)\n",
        "$$\n",
        "Now find the determinants for Cramer's rule:\n",
        "$$\n",
        "\\Delta = \n",
        "\\begin{vmatrix}\n",
        "1+h_{re} & h_{im} \\\\\n",
        "h_{im} & 1-h_{re} \\\\\n",
        "\\end{vmatrix}\n",
        "\\qquad\n",
        "\\Delta_1 = \n",
        "\\begin{vmatrix}\n",
        "\\text{y}_{re} & h_{im} \\\\\n",
        "\\text{y}_{im} & 1-h_{re} \\\\\n",
        "\\end{vmatrix}\n",
        "\\qquad\n",
        "\\Delta_2 = \n",
        "\\begin{vmatrix}\n",
        "1+h_{re} & \\text{y}_{re} \\\\\n",
        "h_{im} & \\text{y}_{im} \\\\\n",
        "\\end{vmatrix}\n",
        "$$\n",
        "Then $\\text{x}_{re}$ and $\\text{x}_{im}$ can be found this way:\n",
        "\n"
      ]
    },
    {
      "cell_type": "markdown",
      "metadata": {
        "id": "CPjkWooNiyZa"
      },
      "source": [
        "$$\n",
        "\\text{x}_{re} = \\frac{\\Delta_1}{\\Delta} = \\frac{\\text{y}_{re}(1-h_{re})- \\text{y}_{im}h_{im}}{1-h_{re}^2-h_{im}^2} \n",
        "$$\n",
        "And\n",
        "$$\n",
        "\\text{x}_{im} = \\frac{\\Delta_2}{\\Delta} = \\frac{\\text{y}_{im}(1+h_{re})- \\text{y}_{re}h_{im}}{1-h_{re}^2-h_{im}^2}\n",
        "$$\n",
        "Let us check the solution"
      ]
    },
    {
      "cell_type": "code",
      "metadata": {
        "colab": {
          "base_uri": "https://localhost:8080/"
        },
        "id": "FgBdDYKX_KPZ",
        "outputId": "604ebe24-f224-4a6c-d7ef-4a945f330f0c"
      },
      "source": [
        "%pylab inline"
      ],
      "execution_count": null,
      "outputs": [
        {
          "output_type": "stream",
          "text": [
            "Populating the interactive namespace from numpy and matplotlib\n"
          ],
          "name": "stdout"
        }
      ]
    },
    {
      "cell_type": "markdown",
      "metadata": {
        "id": "uY5j7qeZktW9"
      },
      "source": [
        "Create random $\\dot{\\text{x}}$ vector and random $\\dot{h}$"
      ]
    },
    {
      "cell_type": "code",
      "metadata": {
        "id": "0u4kNiA3_Vwo"
      },
      "source": [
        "x_re, x_im = np.round(np.random.rand(1,3),2), np.round(np.random.rand(1,3),2) \n",
        "h_re, h_im = np.random.randint(2,9,1), np.random.randint(2,9,1)"
      ],
      "execution_count": null,
      "outputs": []
    },
    {
      "cell_type": "markdown",
      "metadata": {
        "id": "Qh2chYPIlD6-"
      },
      "source": [
        "Calculate $\\dot{\\text{y}}$ using the main formula: "
      ]
    },
    {
      "cell_type": "code",
      "metadata": {
        "id": "H3FRdzU63NTt"
      },
      "source": [
        "y = x_re+1j*x_im + (h_re+1j*h_im)*(x_re-1j*x_im)\n",
        "y_re, y_im = y.real, y.imag"
      ],
      "execution_count": null,
      "outputs": []
    },
    {
      "cell_type": "markdown",
      "metadata": {
        "id": "IS9MhJdimVER"
      },
      "source": [
        "Calculate x_re using obtained formula:"
      ]
    },
    {
      "cell_type": "code",
      "metadata": {
        "colab": {
          "base_uri": "https://localhost:8080/"
        },
        "id": "pLESrOLx3nZt",
        "outputId": "5f9de59b-5c8c-4e8f-f8e5-c4e7c18ba864"
      },
      "source": [
        "print(\"Real x_re : \", x_re[0])\n",
        "print(\"Calculated: \",((y_re*(1-h_re)-y_im*h_im)/(1-h_re**2-h_im**2))[0])\n",
        "print(\"All the elements are equal: \",np.all(np.isclose(x_re, (y_re*(1-h_re)-y_im*h_im)/(1-h_re**2-h_im**2)) == True))"
      ],
      "execution_count": null,
      "outputs": [
        {
          "output_type": "stream",
          "text": [
            "Real x_re :  [0.5  0.78 0.48]\n",
            "Calculated:  [0.5  0.78 0.48]\n",
            "All the elements are equal:  True\n"
          ],
          "name": "stdout"
        }
      ]
    },
    {
      "cell_type": "markdown",
      "metadata": {
        "id": "e3YY6yCtmmbd"
      },
      "source": [
        "The same thing with x_im:\n"
      ]
    },
    {
      "cell_type": "code",
      "metadata": {
        "colab": {
          "base_uri": "https://localhost:8080/"
        },
        "id": "SP1SQ2m7msW1",
        "outputId": "77a56b6f-a1ce-4eb0-a081-6cc557899a5f"
      },
      "source": [
        "print(\"Real x_im : \", x_im[0])\n",
        "print(\"Calculated: \",((y_im*(1+h_re)-y_re*h_im)/(1-h_re**2-h_im**2))[0])\n",
        "print(\"All the elements are equal: \",np.all(np.isclose(x_im, (y_im*(1+h_re)-y_re*h_im)/(1-h_re**2-h_im**2)) == True))"
      ],
      "execution_count": null,
      "outputs": [
        {
          "output_type": "stream",
          "text": [
            "Real x_im :  [0.58 0.39 0.06]\n",
            "Calculated:  [0.58 0.39 0.06]\n",
            "All the elements are equal:  True\n"
          ],
          "name": "stdout"
        }
      ]
    },
    {
      "cell_type": "markdown",
      "metadata": {
        "id": "W_aK1JxsMVNr"
      },
      "source": [
        "However the same solution, but in more elegant can be obtained with following way:\n",
        "\n",
        "As $\\dot{\\text{y}} = \\dot{\\text{x}} + h\\dot{\\text{x}}^*$, then we can conjucate both parts of equation and find $\\dot{\\text{x}}^*$ :\n",
        "\n",
        "$$\n",
        "\\dot{\\text{y}}^* = \\dot{\\text{x}}^* + h^*\\dot{\\text{x}} \\qquad (1)\\\\\n",
        "\\dot{\\text{x}}^* = \\dot{\\text{y}}^* - h^*\\dot{\\text{x}} \\qquad (2)\n",
        "$$\n",
        "Let us substitute (2) expression into (1):\n",
        "$$\n",
        "\\dot{\\text{y}} = \\dot{\\text{x}} + h(\\dot{\\text{y}}^* - h^*\\dot{\\text{x})}\n",
        "$$\n",
        "Now it's easy to find $\\dot{\\text{x}}$:\n",
        "$$\n",
        "\\dot{\\text{x}} = \\frac{\\dot{\\text{y}}- h\\dot{\\text{y}}^*}{1- |h|^2}\n",
        "$$\n",
        "If we find real and imaginary parts from here, we well get the same result, as from 1st approach \n",
        "\n"
      ]
    },
    {
      "cell_type": "markdown",
      "metadata": {
        "id": "NQGe6k8iZ78G"
      },
      "source": [
        "# **Subtask 2**"
      ]
    },
    {
      "cell_type": "markdown",
      "metadata": {
        "id": "860HM53ZZ_VG"
      },
      "source": [
        "Covariance of two random complex values $A$ and $B$ can be calculated as follows:\n",
        "$$\n",
        "\\text{cov}(\\dot A,\\dot B) = \\text{E}\\Big[\\big(\\dot A-\\text{E}[\\dot A]\\big)\\big(\\dot B^* - \\text{E}[\\dot B^*]\\big) \\Big ] \\qquad (3)\n",
        "$$\n",
        "Since \n",
        "$\\dot{\\text{x}}$\n",
        "is uncorrelated with $\\dot{\\text{x}}^*$ then \n",
        "$$\n",
        "\\text{cov}(\\dot{\\text{x}},\\dot{\\text{x}}^*) = 0 \n",
        "$$\n",
        "Also, as $\\dot{\\text{x}}$ has zero mean then: \n",
        "$$\n",
        "\\text{E}(\\dot{\\text{x}}) = 0\n",
        "$$\n",
        "Using this fact and (3) equation we can easily find that:\n",
        "$$\n",
        "\\text{cov}(\\dot{\\text{x}},\\dot{\\text{x}}^*) = \\text{E}(\\dot{\\text{x}}  \\dot{\\text{x}} )\n",
        "$$\n",
        "Now we know that \n",
        "$\\dot{\\text{x}} = \\dot{\\text{y}} - h\\dot{\\text{x}}^*$, therefore:\n",
        "\n",
        "$$\n",
        "\\text{cov}(\\dot{\\text{x}},\\dot{\\text{x}}^*) = \n",
        "\\text{E}[(\\dot{\\text{y}} - h\\dot{\\text{x}}^*)(\\dot{\\text{y}} - h\\dot{\\text{x}}^*)] = \\text{E}[\\dot{\\text{y}}^2-2\\dot{\\text{y}}h\\dot{\\text{x}}^*+h^2\\dot{\\text{x}}^{*2}]\n",
        "$$\n",
        "\n",
        "Again we can use the fact that \n",
        "$\\dot{\\text{x}}^* = \\dot{\\text{y}}^* - h^*\\dot{\\text{x}}$. And after simplification we will get: \n",
        "\n",
        "$$\n",
        "\\text{cov}(\\dot{\\text{x}},\\dot{\\text{x}}^*) = \\text{E}\\Big[\\dot{\\text{y}}^2-2|\\dot{\\text{y}}|^2h+2\\dot{\\text{y}}|h|^2\\dot{\\text{x}}+ h^2\\dot{\\text{y}}^{*2}-2\\dot{\\text{y}}^*|h|^2h\\dot{\\text{x}}+|h|^4\\dot{\\text{x}}^2 \\Big]\n",
        "$$\n",
        "\n",
        "Now we can use the fact that $h$ is small (~0.1), therefore values multiplied to $h$ will be also small and we can omit some of them for simplicity. Let's omit all values where $h$ has power greater then 1: \n",
        "\n",
        "$$\n",
        "\\text{cov}(\\dot{\\text{x}},\\dot{\\text{x}}^*) = \\text{E}[\\dot{\\text{y}}^2-2|\\dot{\\text{y}}|^2h] = 0\n",
        "$$\n",
        "\n",
        "Now we can replace expectation operation into summation as follows:\n",
        "\n",
        "$$\n",
        "\\sum_{n=1}^{N}{\\left(\\dot{\\text{y}_n}^2-2|\\dot{\\text{y}_n}|^2h\\right)}\n",
        "$$\n",
        "\n",
        "And finaly after the simplification we will achieve the result: \n",
        "$$\n",
        "h = \\frac{\\sum_{n=1}^{N}\\dot{\\text{y}}_n^2}{2\\sum_{n=1}^{N}|\\dot{\\text{y}}_n|^2}\n",
        "$$"
      ]
    },
    {
      "cell_type": "markdown",
      "metadata": {
        "id": "DxA5GTAS0tca"
      },
      "source": [
        "# **Subtask 3**"
      ]
    },
    {
      "cell_type": "code",
      "metadata": {
        "id": "OGPC791mzmeC"
      },
      "source": [
        ""
      ],
      "execution_count": null,
      "outputs": []
    }
  ]
}